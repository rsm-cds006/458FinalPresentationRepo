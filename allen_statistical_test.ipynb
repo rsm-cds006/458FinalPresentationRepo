{
 "cells": [
  {
   "cell_type": "code",
   "execution_count": 13,
   "metadata": {},
   "outputs": [],
   "source": [
    "import numpy as np\n",
    "import scipy.stats as stats\n",
    "import matplotlib.pyplot as plt\n",
    "import pandas as pd\n",
    "import pyrsm as rsm\n",
    "import seaborn as sns\n",
    "from random import random, gauss, seed\n",
    "import warnings\n",
    "warnings.filterwarnings(\"ignore\")"
   ]
  },
  {
   "cell_type": "code",
   "execution_count": 14,
   "metadata": {},
   "outputs": [
    {
     "data": {
      "text/html": [
       "<div>\n",
       "<style scoped>\n",
       "    .dataframe tbody tr th:only-of-type {\n",
       "        vertical-align: middle;\n",
       "    }\n",
       "\n",
       "    .dataframe tbody tr th {\n",
       "        vertical-align: top;\n",
       "    }\n",
       "\n",
       "    .dataframe thead th {\n",
       "        text-align: right;\n",
       "    }\n",
       "</style>\n",
       "<table border=\"1\" class=\"dataframe\">\n",
       "  <thead>\n",
       "    <tr style=\"text-align: right;\">\n",
       "      <th></th>\n",
       "      <th>Date</th>\n",
       "      <th>Time (PST)</th>\n",
       "      <th>Group</th>\n",
       "      <th>PaymentMethod</th>\n",
       "      <th>Gross</th>\n",
       "      <th>Fees</th>\n",
       "      <th>Net</th>\n",
       "    </tr>\n",
       "  </thead>\n",
       "  <tbody>\n",
       "    <tr>\n",
       "      <th>0</th>\n",
       "      <td>2/14/24</td>\n",
       "      <td>8:30:19</td>\n",
       "      <td>Control</td>\n",
       "      <td>PayPal</td>\n",
       "      <td>$25.00</td>\n",
       "      <td>($0.99)</td>\n",
       "      <td>$24.01</td>\n",
       "    </tr>\n",
       "    <tr>\n",
       "      <th>1</th>\n",
       "      <td>2/14/24</td>\n",
       "      <td>8:32:55</td>\n",
       "      <td>Control</td>\n",
       "      <td>PayPal</td>\n",
       "      <td>$5.00</td>\n",
       "      <td>($0.59)</td>\n",
       "      <td>$4.41</td>\n",
       "    </tr>\n",
       "    <tr>\n",
       "      <th>2</th>\n",
       "      <td>2/14/24</td>\n",
       "      <td>8:36:35</td>\n",
       "      <td>Control</td>\n",
       "      <td>PayPal</td>\n",
       "      <td>$26.01</td>\n",
       "      <td>($1.01)</td>\n",
       "      <td>$25.00</td>\n",
       "    </tr>\n",
       "    <tr>\n",
       "      <th>3</th>\n",
       "      <td>2/14/24</td>\n",
       "      <td>8:45:47</td>\n",
       "      <td>Control</td>\n",
       "      <td>PayPal</td>\n",
       "      <td>$10.00</td>\n",
       "      <td>($0.69)</td>\n",
       "      <td>$9.31</td>\n",
       "    </tr>\n",
       "    <tr>\n",
       "      <th>4</th>\n",
       "      <td>2/14/24</td>\n",
       "      <td>8:45:58</td>\n",
       "      <td>Control</td>\n",
       "      <td>PayPal</td>\n",
       "      <td>$26.01</td>\n",
       "      <td>($1.01)</td>\n",
       "      <td>$25.00</td>\n",
       "    </tr>\n",
       "  </tbody>\n",
       "</table>\n",
       "</div>"
      ],
      "text/plain": [
       "      Date Time (PST)    Group PaymentMethod    Gross     Fees      Net\n",
       "0  2/14/24    8:30:19  Control        PayPal  $25.00   ($0.99)  $24.01 \n",
       "1  2/14/24    8:32:55  Control        PayPal   $5.00   ($0.59)   $4.41 \n",
       "2  2/14/24    8:36:35  Control        PayPal  $26.01   ($1.01)  $25.00 \n",
       "3  2/14/24    8:45:47  Control        PayPal  $10.00   ($0.69)   $9.31 \n",
       "4  2/14/24    8:45:58  Control        PayPal  $26.01   ($1.01)  $25.00 "
      ]
     },
     "execution_count": 14,
     "metadata": {},
     "output_type": "execute_result"
    }
   ],
   "source": [
    "# import \"DonationHistory.csv\"\n",
    "donors = pd.read_csv(\"CampaignDonationHistory.csv\")\n",
    "donors.head()"
   ]
  },
  {
   "cell_type": "code",
   "execution_count": 16,
   "metadata": {},
   "outputs": [
    {
     "name": "stdout",
     "output_type": "stream",
     "text": [
      "2715\n",
      "2714\n",
      "15\n",
      "3\n"
     ]
    }
   ],
   "source": [
    "n_Control = 2715\n",
    "n_Treatment = 2714\n",
    "\n",
    "n_Control_Donations = donors.groupby(\"Group\").size()[0]\n",
    "n_Treatment_Donations = donors.groupby(\"Group\").size()[1]\n",
    "\n",
    "print(n_Control)\n",
    "print(n_Treatment)\n",
    "print(n_Control_Donations)\n",
    "print(n_Treatment_Donations)"
   ]
  },
  {
   "cell_type": "code",
   "execution_count": 17,
   "metadata": {},
   "outputs": [
    {
     "data": {
      "text/plain": [
       "(2.832344952803735, 0.0046207969626659295)"
      ]
     },
     "execution_count": 17,
     "metadata": {},
     "output_type": "execute_result"
    }
   ],
   "source": [
    "from scipy.stats import norm\n",
    "\n",
    "# Null Hypothesis (H0): The proportion of donations is the same in both groups (p1 = p2) (Testimony has no effect)\n",
    "# Alternative Hypothesis (H1): The proportion of donations is different in both groups (p1 != p2) (Testimony has an effect)\n",
    "\n",
    "\n",
    "# Calculate proportions\n",
    "p1 = n_Control_Donations / n_Control\n",
    "p2 = n_Treatment_Donations / n_Treatment\n",
    "\n",
    "# Pooled proportion\n",
    "pooled_p = (n_Control_Donations+n_Treatment_Donations) / (n_Control+n_Treatment)\n",
    "\n",
    "# Calculate the z-score\n",
    "z_score = (p1 - p2) / ((pooled_p * (1 - pooled_p) * (1 / 2714 + 1 / 2715)) ** 0.5)\n",
    "\n",
    "# Calculate the p-value\n",
    "p_value = 2 * (1 - norm.cdf(abs(z_score)))  # Two-tailed test\n",
    "\n",
    "z_score, p_value\n"
   ]
  },
  {
   "cell_type": "markdown",
   "metadata": {},
   "source": [
    "The p-value of .0046 is less than .05, so we reject the null hypothesis that the testimony has no effect on the donations. Although the testimony does have an effect on the donations, the effect is actually negative. The number of donations is significantly lower when the testimony is present."
   ]
  }
 ],
 "metadata": {
  "kernelspec": {
   "display_name": "base",
   "language": "python",
   "name": "python3"
  },
  "language_info": {
   "codemirror_mode": {
    "name": "ipython",
    "version": 3
   },
   "file_extension": ".py",
   "mimetype": "text/x-python",
   "name": "python",
   "nbconvert_exporter": "python",
   "pygments_lexer": "ipython3",
   "version": "3.11.7"
  }
 },
 "nbformat": 4,
 "nbformat_minor": 2
}
